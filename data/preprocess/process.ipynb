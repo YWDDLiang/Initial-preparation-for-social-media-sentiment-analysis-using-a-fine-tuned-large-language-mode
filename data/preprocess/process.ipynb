{
 "cells": [
  {
   "cell_type": "code",
   "execution_count": 123,
   "metadata": {},
   "outputs": [
    {
     "name": "stdout",
     "output_type": "stream",
     "text": [
      "Requirement already satisfied: pandas in /home/vcm/.local/lib/python3.8/site-packages (2.0.3)\n",
      "Requirement already satisfied: pytz>=2020.1 in /home/vcm/.local/lib/python3.8/site-packages (from pandas) (2023.3.post1)\n",
      "Requirement already satisfied: tzdata>=2022.1 in /home/vcm/.local/lib/python3.8/site-packages (from pandas) (2023.3)\n",
      "Requirement already satisfied: python-dateutil>=2.8.2 in /home/vcm/.local/lib/python3.8/site-packages (from pandas) (2.8.2)\n",
      "Requirement already satisfied: numpy>=1.20.3; python_version < \"3.10\" in /home/vcm/.local/lib/python3.8/site-packages (from pandas) (1.24.4)\n",
      "Requirement already satisfied: six>=1.5 in /usr/lib/python3/dist-packages (from python-dateutil>=2.8.2->pandas) (1.14.0)\n"
     ]
    }
   ],
   "source": [
    "!pip install pandas"
   ]
  },
  {
   "cell_type": "code",
   "execution_count": 124,
   "metadata": {},
   "outputs": [],
   "source": [
    "import pandas as pd\n",
    "import json"
   ]
  },
  {
   "cell_type": "code",
   "execution_count": 125,
   "metadata": {},
   "outputs": [],
   "source": [
    "df=pd.read_csv(\"aave_cleaned_discord.csv\")\n",
    "df1=pd.read_csv(\"aave_user_sentiment.csv\")\n",
    "df.replace({r'[^\\x00-\\x7F]+':''}, regex=True, inplace=True)\n",
    "df1.replace({r'[^\\x00-\\x7F]+':''}, regex=True, inplace=True)\n",
    "df=df.fillna('')\n",
    "df1=df1.fillna('')"
   ]
  },
  {
   "cell_type": "code",
   "execution_count": 126,
   "metadata": {},
   "outputs": [
    {
     "data": {
      "text/html": [
       "<div>\n",
       "<style scoped>\n",
       "    .dataframe tbody tr th:only-of-type {\n",
       "        vertical-align: middle;\n",
       "    }\n",
       "\n",
       "    .dataframe tbody tr th {\n",
       "        vertical-align: top;\n",
       "    }\n",
       "\n",
       "    .dataframe thead th {\n",
       "        text-align: right;\n",
       "    }\n",
       "</style>\n",
       "<table border=\"1\" class=\"dataframe\">\n",
       "  <thead>\n",
       "    <tr style=\"text-align: right;\">\n",
       "      <th></th>\n",
       "      <th>AuthorID</th>\n",
       "      <th>Author</th>\n",
       "      <th>Date</th>\n",
       "      <th>Content</th>\n",
       "      <th>Attachments</th>\n",
       "      <th>Reactions</th>\n",
       "      <th>Preprocessed</th>\n",
       "    </tr>\n",
       "  </thead>\n",
       "  <tbody>\n",
       "    <tr>\n",
       "      <th>0</th>\n",
       "      <td>322353526187753482</td>\n",
       "      <td>J0rdan#2037</td>\n",
       "      <td>08/02/2019 12:56 AM</td>\n",
       "      <td>Hi all !</td>\n",
       "      <td></td>\n",
       "      <td></td>\n",
       "      <td>hi</td>\n",
       "    </tr>\n",
       "    <tr>\n",
       "      <th>1</th>\n",
       "      <td>585086902424567822</td>\n",
       "      <td>0xn1mr0d</td>\n",
       "      <td>08/02/2019 1:04 AM</td>\n",
       "      <td>Helloooo</td>\n",
       "      <td></td>\n",
       "      <td></td>\n",
       "      <td>helloooo</td>\n",
       "    </tr>\n",
       "    <tr>\n",
       "      <th>2</th>\n",
       "      <td>457126445819363338</td>\n",
       "      <td>pabloaave</td>\n",
       "      <td>08/02/2019 4:17 PM</td>\n",
       "      <td>Hey!</td>\n",
       "      <td></td>\n",
       "      <td></td>\n",
       "      <td>hey</td>\n",
       "    </tr>\n",
       "    <tr>\n",
       "      <th>3</th>\n",
       "      <td>539935415084515369</td>\n",
       "      <td>El Macho#0691</td>\n",
       "      <td>09/10/2019 4:50 PM</td>\n",
       "      <td>There will be more information about the token...</td>\n",
       "      <td></td>\n",
       "      <td></td>\n",
       "      <td>information token swap next governance update</td>\n",
       "    </tr>\n",
       "    <tr>\n",
       "      <th>4</th>\n",
       "      <td>539935415084515369</td>\n",
       "      <td>El Macho#0691</td>\n",
       "      <td>09/10/2019 4:50 PM</td>\n",
       "      <td>?</td>\n",
       "      <td></td>\n",
       "      <td></td>\n",
       "      <td></td>\n",
       "    </tr>\n",
       "  </tbody>\n",
       "</table>\n",
       "</div>"
      ],
      "text/plain": [
       "             AuthorID         Author                 Date  \\\n",
       "0  322353526187753482    J0rdan#2037  08/02/2019 12:56 AM   \n",
       "1  585086902424567822       0xn1mr0d   08/02/2019 1:04 AM   \n",
       "2  457126445819363338      pabloaave   08/02/2019 4:17 PM   \n",
       "3  539935415084515369  El Macho#0691   09/10/2019 4:50 PM   \n",
       "4  539935415084515369  El Macho#0691   09/10/2019 4:50 PM   \n",
       "\n",
       "                                             Content Attachments Reactions  \\\n",
       "0                                           Hi all !                         \n",
       "1                                           Helloooo                         \n",
       "2                                               Hey!                         \n",
       "3  There will be more information about the token...                         \n",
       "4                                                  ?                         \n",
       "\n",
       "                                    Preprocessed  \n",
       "0                                             hi  \n",
       "1                                       helloooo  \n",
       "2                                            hey  \n",
       "3  information token swap next governance update  \n",
       "4                                                 "
      ]
     },
     "execution_count": 126,
     "metadata": {},
     "output_type": "execute_result"
    }
   ],
   "source": [
    "df.head()"
   ]
  },
  {
   "cell_type": "code",
   "execution_count": 127,
   "metadata": {},
   "outputs": [
    {
     "data": {
      "text/html": [
       "<div>\n",
       "<style scoped>\n",
       "    .dataframe tbody tr th:only-of-type {\n",
       "        vertical-align: middle;\n",
       "    }\n",
       "\n",
       "    .dataframe tbody tr th {\n",
       "        vertical-align: top;\n",
       "    }\n",
       "\n",
       "    .dataframe thead th {\n",
       "        text-align: right;\n",
       "    }\n",
       "</style>\n",
       "<table border=\"1\" class=\"dataframe\">\n",
       "  <thead>\n",
       "    <tr style=\"text-align: right;\">\n",
       "      <th></th>\n",
       "      <th>AuthorID</th>\n",
       "      <th>Average_Sentiment_Score</th>\n",
       "    </tr>\n",
       "  </thead>\n",
       "  <tbody>\n",
       "    <tr>\n",
       "      <th>0</th>\n",
       "      <td>58833880295149568</td>\n",
       "      <td>-0.023988</td>\n",
       "    </tr>\n",
       "    <tr>\n",
       "      <th>1</th>\n",
       "      <td>74495335426170880</td>\n",
       "      <td>-0.113600</td>\n",
       "    </tr>\n",
       "    <tr>\n",
       "      <th>2</th>\n",
       "      <td>90465325442670592</td>\n",
       "      <td>-0.072800</td>\n",
       "    </tr>\n",
       "    <tr>\n",
       "      <th>3</th>\n",
       "      <td>93193912260263936</td>\n",
       "      <td>0.345000</td>\n",
       "    </tr>\n",
       "    <tr>\n",
       "      <th>4</th>\n",
       "      <td>94507133751537664</td>\n",
       "      <td>0.032633</td>\n",
       "    </tr>\n",
       "  </tbody>\n",
       "</table>\n",
       "</div>"
      ],
      "text/plain": [
       "            AuthorID  Average_Sentiment_Score\n",
       "0  58833880295149568                -0.023988\n",
       "1  74495335426170880                -0.113600\n",
       "2  90465325442670592                -0.072800\n",
       "3  93193912260263936                 0.345000\n",
       "4  94507133751537664                 0.032633"
      ]
     },
     "execution_count": 127,
     "metadata": {},
     "output_type": "execute_result"
    }
   ],
   "source": [
    "df1.head()"
   ]
  },
  {
   "cell_type": "code",
   "execution_count": 128,
   "metadata": {},
   "outputs": [],
   "source": [
    "temp1={}\n",
    "has_read=[]\n",
    "for i in df['AuthorID']:\n",
    "    if i in has_read:\n",
    "        continue\n",
    "    has_read.append(i)\n",
    "    a=df[df['AuthorID']==i].Content.reset_index()\n",
    "    temp2=''\n",
    "    for j in range(len(a)):\n",
    "        temp2+=a.Content[j]\n",
    "    temp1[i]=temp2"
   ]
  },
  {
   "cell_type": "code",
   "execution_count": 144,
   "metadata": {},
   "outputs": [],
   "source": [
    "temp3={}\n",
    "has_read=[]\n",
    "for i in df['AuthorID']:\n",
    "    if i in has_read:\n",
    "        continue\n",
    "    else:\n",
    "        has_read.append(i)\n",
    "    temp4=df1[df1['AuthorID']==i].Average_Sentiment_Score.reset_index()\n",
    "    temp5=temp4.Average_Sentiment_Score[0]\n",
    "    if temp5>0:\n",
    "        temp6=\"Positive\"\n",
    "    elif temp5==0:\n",
    "        temp6=\"Neutral\"\n",
    "    else:\n",
    "        temp6=\"Negative\"\n",
    "    temp3[i]=temp6"
   ]
  },
  {
   "cell_type": "code",
   "execution_count": 147,
   "metadata": {},
   "outputs": [
    {
     "name": "stdout",
     "output_type": "stream",
     "text": [
      "830\n"
     ]
    }
   ],
   "source": [
    "dataset_data=[]\n",
    "has_read=[]\n",
    "for i in df['AuthorID']:\n",
    "    if i in has_read:\n",
    "        continue\n",
    "    else:\n",
    "        has_read.append(i)\n",
    "    dataset_data.append({\"instruction\": \"Detect the sentiment of the content.\",\n",
    "        \"input\": temp1[i],\n",
    "        \"output\": temp3[i]})"
   ]
  },
  {
   "cell_type": "code",
   "execution_count": null,
   "metadata": {},
   "outputs": [],
   "source": [
    "import json\n",
    "with open(\"dataset.json\", \"w\") as f:\n",
    "   json.dump(dataset_data, f)"
   ]
  }
 ],
 "metadata": {
  "kernelspec": {
   "display_name": "Python 3",
   "language": "python",
   "name": "python3"
  },
  "language_info": {
   "codemirror_mode": {
    "name": "ipython",
    "version": 3
   },
   "file_extension": ".py",
   "mimetype": "text/x-python",
   "name": "python",
   "nbconvert_exporter": "python",
   "pygments_lexer": "ipython3",
   "version": "3.8.10"
  }
 },
 "nbformat": 4,
 "nbformat_minor": 2
}
