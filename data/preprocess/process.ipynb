{
 "cells": [
  {
   "cell_type": "code",
   "execution_count": 227,
   "metadata": {},
   "outputs": [
    {
     "name": "stdout",
     "output_type": "stream",
     "text": [
      "Requirement already satisfied: pandas in /home/vcm/.local/lib/python3.8/site-packages (2.0.3)\n",
      "Requirement already satisfied: tzdata>=2022.1 in /home/vcm/.local/lib/python3.8/site-packages (from pandas) (2023.3)\n",
      "Requirement already satisfied: pytz>=2020.1 in /home/vcm/.local/lib/python3.8/site-packages (from pandas) (2023.3.post1)\n",
      "Requirement already satisfied: numpy>=1.20.3; python_version < \"3.10\" in /home/vcm/.local/lib/python3.8/site-packages (from pandas) (1.24.4)\n",
      "Requirement already satisfied: python-dateutil>=2.8.2 in /home/vcm/.local/lib/python3.8/site-packages (from pandas) (2.8.2)\n",
      "Requirement already satisfied: six>=1.5 in /usr/lib/python3/dist-packages (from python-dateutil>=2.8.2->pandas) (1.14.0)\n"
     ]
    }
   ],
   "source": [
    "!pip install pandas"
   ]
  },
  {
   "cell_type": "code",
   "execution_count": 228,
   "metadata": {},
   "outputs": [],
   "source": [
    "import pandas as pd"
   ]
  },
  {
   "cell_type": "code",
   "execution_count": 229,
   "metadata": {},
   "outputs": [],
   "source": [
    "df=pd.read_csv(\"meritcircle_cleaned_discord.csv\")\n",
    "df1=pd.read_csv(\"meritcircle_user_sentiment.csv\")\n",
    "df.replace({r'[^\\x00-\\x7F]+':''}, regex=True, inplace=True)\n",
    "df1.replace({r'[^\\x00-\\x7F]+':''}, regex=True, inplace=True)\n",
    "df=df.fillna('')\n",
    "df1=df1.fillna('')"
   ]
  },
  {
   "cell_type": "code",
   "execution_count": 230,
   "metadata": {},
   "outputs": [
    {
     "data": {
      "text/html": [
       "<div>\n",
       "<style scoped>\n",
       "    .dataframe tbody tr th:only-of-type {\n",
       "        vertical-align: middle;\n",
       "    }\n",
       "\n",
       "    .dataframe tbody tr th {\n",
       "        vertical-align: top;\n",
       "    }\n",
       "\n",
       "    .dataframe thead th {\n",
       "        text-align: right;\n",
       "    }\n",
       "</style>\n",
       "<table border=\"1\" class=\"dataframe\">\n",
       "  <thead>\n",
       "    <tr style=\"text-align: right;\">\n",
       "      <th></th>\n",
       "      <th>AuthorID</th>\n",
       "      <th>Author</th>\n",
       "      <th>Date_original</th>\n",
       "      <th>Date</th>\n",
       "      <th>Content</th>\n",
       "      <th>Attachments</th>\n",
       "      <th>Reactions</th>\n",
       "      <th>Preprocessed</th>\n",
       "    </tr>\n",
       "  </thead>\n",
       "  <tbody>\n",
       "    <tr>\n",
       "      <th>0</th>\n",
       "      <td>3.035150e+17</td>\n",
       "      <td>filthyfawkes</td>\n",
       "      <td>2022/2/14 9:12</td>\n",
       "      <td>2022/2/14</td>\n",
       "      <td>@Professor LP</td>\n",
       "      <td></td>\n",
       "      <td></td>\n",
       "      <td>professor lp</td>\n",
       "    </tr>\n",
       "    <tr>\n",
       "      <th>1</th>\n",
       "      <td>3.035150e+17</td>\n",
       "      <td>filthyfawkes</td>\n",
       "      <td>2022/2/14 9:14</td>\n",
       "      <td>2022/2/14</td>\n",
       "      <td>@MC Scholar chat here with prof</td>\n",
       "      <td></td>\n",
       "      <td></td>\n",
       "      <td>mc scholar chat prof</td>\n",
       "    </tr>\n",
       "    <tr>\n",
       "      <th>2</th>\n",
       "      <td>3.035150e+17</td>\n",
       "      <td>filthyfawkes</td>\n",
       "      <td>2022/2/14 9:14</td>\n",
       "      <td>2022/2/14</td>\n",
       "      <td>if you can't speak in the lobby</td>\n",
       "      <td></td>\n",
       "      <td></td>\n",
       "      <td>cant speak lobby</td>\n",
       "    </tr>\n",
       "    <tr>\n",
       "      <th>3</th>\n",
       "      <td>7.353470e+17</td>\n",
       "      <td>charless#7527</td>\n",
       "      <td>2022/2/14 9:14</td>\n",
       "      <td>2022/2/14</td>\n",
       "      <td>Inspiration reveal prof</td>\n",
       "      <td></td>\n",
       "      <td></td>\n",
       "      <td>inspiration reveal prof</td>\n",
       "    </tr>\n",
       "    <tr>\n",
       "      <th>4</th>\n",
       "      <td>8.716860e+17</td>\n",
       "      <td>Tueng.TV#8957</td>\n",
       "      <td>2022/2/14 9:14</td>\n",
       "      <td>2022/2/14</td>\n",
       "      <td>Hello</td>\n",
       "      <td></td>\n",
       "      <td></td>\n",
       "      <td>hello</td>\n",
       "    </tr>\n",
       "  </tbody>\n",
       "</table>\n",
       "</div>"
      ],
      "text/plain": [
       "       AuthorID         Author   Date_original       Date  \\\n",
       "0  3.035150e+17   filthyfawkes  2022/2/14 9:12  2022/2/14   \n",
       "1  3.035150e+17   filthyfawkes  2022/2/14 9:14  2022/2/14   \n",
       "2  3.035150e+17   filthyfawkes  2022/2/14 9:14  2022/2/14   \n",
       "3  7.353470e+17  charless#7527  2022/2/14 9:14  2022/2/14   \n",
       "4  8.716860e+17  Tueng.TV#8957  2022/2/14 9:14  2022/2/14   \n",
       "\n",
       "                           Content Attachments Reactions  \\\n",
       "0                    @Professor LP                         \n",
       "1  @MC Scholar chat here with prof                         \n",
       "2  if you can't speak in the lobby                         \n",
       "3          Inspiration reveal prof                         \n",
       "4                            Hello                         \n",
       "\n",
       "              Preprocessed  \n",
       "0             professor lp  \n",
       "1     mc scholar chat prof  \n",
       "2         cant speak lobby  \n",
       "3  inspiration reveal prof  \n",
       "4                    hello  "
      ]
     },
     "execution_count": 230,
     "metadata": {},
     "output_type": "execute_result"
    }
   ],
   "source": [
    "df.head()"
   ]
  },
  {
   "cell_type": "code",
   "execution_count": 231,
   "metadata": {},
   "outputs": [
    {
     "data": {
      "text/html": [
       "<div>\n",
       "<style scoped>\n",
       "    .dataframe tbody tr th:only-of-type {\n",
       "        vertical-align: middle;\n",
       "    }\n",
       "\n",
       "    .dataframe tbody tr th {\n",
       "        vertical-align: top;\n",
       "    }\n",
       "\n",
       "    .dataframe thead th {\n",
       "        text-align: right;\n",
       "    }\n",
       "</style>\n",
       "<table border=\"1\" class=\"dataframe\">\n",
       "  <thead>\n",
       "    <tr style=\"text-align: right;\">\n",
       "      <th></th>\n",
       "      <th>AuthorID</th>\n",
       "      <th>Average_Sentiment_Score</th>\n",
       "    </tr>\n",
       "  </thead>\n",
       "  <tbody>\n",
       "    <tr>\n",
       "      <th>0</th>\n",
       "      <td>8.584770e+16</td>\n",
       "      <td>0.161183</td>\n",
       "    </tr>\n",
       "    <tr>\n",
       "      <th>1</th>\n",
       "      <td>1.050630e+17</td>\n",
       "      <td>0.115913</td>\n",
       "    </tr>\n",
       "    <tr>\n",
       "      <th>2</th>\n",
       "      <td>1.102280e+17</td>\n",
       "      <td>-0.021770</td>\n",
       "    </tr>\n",
       "    <tr>\n",
       "      <th>3</th>\n",
       "      <td>1.126720e+17</td>\n",
       "      <td>0.082354</td>\n",
       "    </tr>\n",
       "    <tr>\n",
       "      <th>4</th>\n",
       "      <td>1.277860e+17</td>\n",
       "      <td>0.102067</td>\n",
       "    </tr>\n",
       "  </tbody>\n",
       "</table>\n",
       "</div>"
      ],
      "text/plain": [
       "       AuthorID  Average_Sentiment_Score\n",
       "0  8.584770e+16                 0.161183\n",
       "1  1.050630e+17                 0.115913\n",
       "2  1.102280e+17                -0.021770\n",
       "3  1.126720e+17                 0.082354\n",
       "4  1.277860e+17                 0.102067"
      ]
     },
     "execution_count": 231,
     "metadata": {},
     "output_type": "execute_result"
    }
   ],
   "source": [
    "df1.head()"
   ]
  },
  {
   "cell_type": "code",
   "execution_count": 232,
   "metadata": {},
   "outputs": [],
   "source": [
    "temp1={}\n",
    "has_read=[]\n",
    "Not_avaliable=[]\n",
    "for i in df['AuthorID']:\n",
    "    if i in has_read:\n",
    "        continue\n",
    "    has_read.append(i)\n",
    "    a=df[df['AuthorID']==i].Content.reset_index()\n",
    "    temp2=''\n",
    "    for j in range(len(a)):\n",
    "        temp2+=a.Content[j]+' '\n",
    "    temp2=temp2[:-1]\n",
    "    if len(temp2)>255:\n",
    "        Not_avaliable.append(i)\n",
    "        continue\n",
    "    else:\n",
    "        temp1[i]=temp2"
   ]
  },
  {
   "cell_type": "code",
   "execution_count": null,
   "metadata": {},
   "outputs": [],
   "source": [
    "temp3={}\n",
    "has_read=[]\n",
    "for i in df['AuthorID']:\n",
    "    if i in Not_avaliable:\n",
    "        continue\n",
    "    if i in has_read:\n",
    "        continue\n",
    "    else:\n",
    "        has_read.append(i)\n",
    "    temp4=df1[df1['AuthorID']==i].Average_Sentiment_Score.reset_index()\n",
    "    temp5=temp4.Average_Sentiment_Score[0]\n",
    "    if temp5>0:\n",
    "        temp6=\"Positive\"\n",
    "    elif temp5<0:\n",
    "        temp6=\"Negative\"\n",
    "    else:\n",
    "        temp6=\"Neutral\"\n",
    "    temp3[i]=temp6"
   ]
  },
  {
   "cell_type": "code",
   "execution_count": null,
   "metadata": {},
   "outputs": [],
   "source": [
    "import random\n",
    "random.seed(42)\n",
    "dataset_data=[]\n",
    "has_read=[]\n",
    "count=0\n",
    "for i in df['AuthorID']:\n",
    "    if i in Not_avaliable:\n",
    "        continue\n",
    "    if i in has_read:\n",
    "        continue\n",
    "    else:\n",
    "        has_read.append(i)\n",
    "        count+=1\n",
    "    if temp3[i]==\"Positive\":\n",
    "        if random.random()>0.45:\n",
    "            continue\n",
    "    dataset_data.append({\"instruction\": \"Detect the sentiment of the content.\",\n",
    "        \"input\": temp1[i],\n",
    "        \"output\": temp3[i]})\n",
    "    if count>1500:\n",
    "        break"
   ]
  },
  {
   "cell_type": "code",
   "execution_count": null,
   "metadata": {},
   "outputs": [],
   "source": [
    "import json\n",
    "with open(\"dataset.json\", \"w\") as f:\n",
    "   json.dump(dataset_data, f)"
   ]
  }
 ],
 "metadata": {
  "kernelspec": {
   "display_name": "Python 3",
   "language": "python",
   "name": "python3"
  },
  "language_info": {
   "codemirror_mode": {
    "name": "ipython",
    "version": 3
   },
   "file_extension": ".py",
   "mimetype": "text/x-python",
   "name": "python",
   "nbconvert_exporter": "python",
   "pygments_lexer": "ipython3",
   "version": "3.8.10"
  }
 },
 "nbformat": 4,
 "nbformat_minor": 2
}
