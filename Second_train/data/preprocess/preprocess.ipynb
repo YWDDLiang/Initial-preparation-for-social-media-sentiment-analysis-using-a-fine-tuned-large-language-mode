{
 "cells": [
  {
   "cell_type": "code",
   "execution_count": 13,
   "metadata": {},
   "outputs": [
    {
     "name": "stdout",
     "output_type": "stream",
     "text": [
      "Requirement already satisfied: pandas in /home/vcm/.local/lib/python3.8/site-packages (2.0.3)\n",
      "Requirement already satisfied: tzdata>=2022.1 in /home/vcm/.local/lib/python3.8/site-packages (from pandas) (2023.3)\n",
      "Requirement already satisfied: pytz>=2020.1 in /home/vcm/.local/lib/python3.8/site-packages (from pandas) (2023.3.post1)\n",
      "Requirement already satisfied: numpy>=1.20.3; python_version < \"3.10\" in /home/vcm/.local/lib/python3.8/site-packages (from pandas) (1.24.4)\n",
      "Requirement already satisfied: python-dateutil>=2.8.2 in /home/vcm/.local/lib/python3.8/site-packages (from pandas) (2.8.2)\n",
      "Requirement already satisfied: six>=1.5 in /home/vcm/.local/lib/python3.8/site-packages (from python-dateutil>=2.8.2->pandas) (1.16.0)\n"
     ]
    }
   ],
   "source": [
    "!pip install pandas"
   ]
  },
  {
   "cell_type": "code",
   "execution_count": 14,
   "metadata": {},
   "outputs": [],
   "source": [
    "import pandas as pd"
   ]
  },
  {
   "cell_type": "code",
   "execution_count": 15,
   "metadata": {},
   "outputs": [],
   "source": [
    "df=pd.read_csv(\"proposals_no_empty.csv\")\n",
    "df.replace({r'[^\\x00-\\x7F]+':''}, regex=True, inplace=True)\n",
    "df=df.fillna('')"
   ]
  },
  {
   "cell_type": "code",
   "execution_count": 16,
   "metadata": {},
   "outputs": [],
   "source": [
    "df1=df[['summary','title','topic']]"
   ]
  },
  {
   "cell_type": "code",
   "execution_count": 17,
   "metadata": {},
   "outputs": [],
   "source": [
    "df2=df[['action_nns_function','deadline_timestamp_seconds','decided_timestamp_seconds','executed_timestamp_seconds','known_neurons_ballots','latest_tally','reward_status']]"
   ]
  },
  {
   "cell_type": "code",
   "execution_count": 18,
   "metadata": {},
   "outputs": [
    {
     "data": {
      "text/html": [
       "<div>\n",
       "<style scoped>\n",
       "    .dataframe tbody tr th:only-of-type {\n",
       "        vertical-align: middle;\n",
       "    }\n",
       "\n",
       "    .dataframe tbody tr th {\n",
       "        vertical-align: top;\n",
       "    }\n",
       "\n",
       "    .dataframe thead th {\n",
       "        text-align: right;\n",
       "    }\n",
       "</style>\n",
       "<table border=\"1\" class=\"dataframe\">\n",
       "  <thead>\n",
       "    <tr style=\"text-align: right;\">\n",
       "      <th></th>\n",
       "      <th>summary</th>\n",
       "      <th>title</th>\n",
       "      <th>topic</th>\n",
       "    </tr>\n",
       "  </thead>\n",
       "  <tbody>\n",
       "    <tr>\n",
       "      <th>0</th>\n",
       "      <td>Upgrade ledger canister to git commit 8a560f95...</td>\n",
       "      <td></td>\n",
       "      <td>TOPIC_NETWORK_CANISTER_MANAGEMENT</td>\n",
       "    </tr>\n",
       "    <tr>\n",
       "      <th>1</th>\n",
       "      <td>Upgrade registry canister to git commit 8a560f...</td>\n",
       "      <td></td>\n",
       "      <td>TOPIC_NETWORK_CANISTER_MANAGEMENT</td>\n",
       "    </tr>\n",
       "    <tr>\n",
       "      <th>2</th>\n",
       "      <td>Upgrade governance canister to git commit 8a56...</td>\n",
       "      <td></td>\n",
       "      <td>TOPIC_NETWORK_CANISTER_MANAGEMENT</td>\n",
       "    </tr>\n",
       "    <tr>\n",
       "      <th>3</th>\n",
       "      <td>Upgrade root canister to git commit 8a560f9510...</td>\n",
       "      <td></td>\n",
       "      <td>TOPIC_NETWORK_CANISTER_MANAGEMENT</td>\n",
       "    </tr>\n",
       "    <tr>\n",
       "      <th>4</th>\n",
       "      <td>Upgrade cycles-minting canister to git commit ...</td>\n",
       "      <td></td>\n",
       "      <td>TOPIC_NETWORK_CANISTER_MANAGEMENT</td>\n",
       "    </tr>\n",
       "  </tbody>\n",
       "</table>\n",
       "</div>"
      ],
      "text/plain": [
       "                                             summary title  \\\n",
       "0  Upgrade ledger canister to git commit 8a560f95...         \n",
       "1  Upgrade registry canister to git commit 8a560f...         \n",
       "2  Upgrade governance canister to git commit 8a56...         \n",
       "3  Upgrade root canister to git commit 8a560f9510...         \n",
       "4  Upgrade cycles-minting canister to git commit ...         \n",
       "\n",
       "                               topic  \n",
       "0  TOPIC_NETWORK_CANISTER_MANAGEMENT  \n",
       "1  TOPIC_NETWORK_CANISTER_MANAGEMENT  \n",
       "2  TOPIC_NETWORK_CANISTER_MANAGEMENT  \n",
       "3  TOPIC_NETWORK_CANISTER_MANAGEMENT  \n",
       "4  TOPIC_NETWORK_CANISTER_MANAGEMENT  "
      ]
     },
     "execution_count": 18,
     "metadata": {},
     "output_type": "execute_result"
    }
   ],
   "source": [
    "df1.head()"
   ]
  },
  {
   "cell_type": "code",
   "execution_count": 19,
   "metadata": {},
   "outputs": [
    {
     "data": {
      "text/html": [
       "<div>\n",
       "<style scoped>\n",
       "    .dataframe tbody tr th:only-of-type {\n",
       "        vertical-align: middle;\n",
       "    }\n",
       "\n",
       "    .dataframe tbody tr th {\n",
       "        vertical-align: top;\n",
       "    }\n",
       "\n",
       "    .dataframe thead th {\n",
       "        text-align: right;\n",
       "    }\n",
       "</style>\n",
       "<table border=\"1\" class=\"dataframe\">\n",
       "  <thead>\n",
       "    <tr style=\"text-align: right;\">\n",
       "      <th></th>\n",
       "      <th>action_nns_function</th>\n",
       "      <th>deadline_timestamp_seconds</th>\n",
       "      <th>decided_timestamp_seconds</th>\n",
       "      <th>executed_timestamp_seconds</th>\n",
       "      <th>known_neurons_ballots</th>\n",
       "      <th>latest_tally</th>\n",
       "      <th>reward_status</th>\n",
       "    </tr>\n",
       "  </thead>\n",
       "  <tbody>\n",
       "    <tr>\n",
       "      <th>0</th>\n",
       "      <td>NnsCanisterUpgrade</td>\n",
       "      <td></td>\n",
       "      <td>1620340878</td>\n",
       "      <td>1620340878.0</td>\n",
       "      <td>[]</td>\n",
       "      <td>{'no': 0, 'timestamp_seconds': 1620340878, 'to...</td>\n",
       "      <td>SETTLED</td>\n",
       "    </tr>\n",
       "    <tr>\n",
       "      <th>1</th>\n",
       "      <td>NnsCanisterUpgrade</td>\n",
       "      <td></td>\n",
       "      <td>1620340965</td>\n",
       "      <td>1620340965.0</td>\n",
       "      <td>[]</td>\n",
       "      <td>{'no': 0, 'timestamp_seconds': 1620340965, 'to...</td>\n",
       "      <td>SETTLED</td>\n",
       "    </tr>\n",
       "    <tr>\n",
       "      <th>2</th>\n",
       "      <td>NnsCanisterUpgrade</td>\n",
       "      <td></td>\n",
       "      <td>1620341025</td>\n",
       "      <td>1620341025.0</td>\n",
       "      <td>[]</td>\n",
       "      <td>{'no': 0, 'timestamp_seconds': 1620341025, 'to...</td>\n",
       "      <td>SETTLED</td>\n",
       "    </tr>\n",
       "    <tr>\n",
       "      <th>3</th>\n",
       "      <td>NnsRootUpgrade</td>\n",
       "      <td></td>\n",
       "      <td>1620341096</td>\n",
       "      <td>1620341110.0</td>\n",
       "      <td>[]</td>\n",
       "      <td>{'no': 0, 'timestamp_seconds': 1620341096, 'to...</td>\n",
       "      <td>SETTLED</td>\n",
       "    </tr>\n",
       "    <tr>\n",
       "      <th>4</th>\n",
       "      <td>NnsCanisterUpgrade</td>\n",
       "      <td></td>\n",
       "      <td>1620341144</td>\n",
       "      <td>1620341144.0</td>\n",
       "      <td>[]</td>\n",
       "      <td>{'no': 0, 'timestamp_seconds': 1620341144, 'to...</td>\n",
       "      <td>SETTLED</td>\n",
       "    </tr>\n",
       "  </tbody>\n",
       "</table>\n",
       "</div>"
      ],
      "text/plain": [
       "  action_nns_function deadline_timestamp_seconds  decided_timestamp_seconds  \\\n",
       "0  NnsCanisterUpgrade                                            1620340878   \n",
       "1  NnsCanisterUpgrade                                            1620340965   \n",
       "2  NnsCanisterUpgrade                                            1620341025   \n",
       "3      NnsRootUpgrade                                            1620341096   \n",
       "4  NnsCanisterUpgrade                                            1620341144   \n",
       "\n",
       "  executed_timestamp_seconds known_neurons_ballots  \\\n",
       "0               1620340878.0                    []   \n",
       "1               1620340965.0                    []   \n",
       "2               1620341025.0                    []   \n",
       "3               1620341110.0                    []   \n",
       "4               1620341144.0                    []   \n",
       "\n",
       "                                        latest_tally reward_status  \n",
       "0  {'no': 0, 'timestamp_seconds': 1620340878, 'to...       SETTLED  \n",
       "1  {'no': 0, 'timestamp_seconds': 1620340965, 'to...       SETTLED  \n",
       "2  {'no': 0, 'timestamp_seconds': 1620341025, 'to...       SETTLED  \n",
       "3  {'no': 0, 'timestamp_seconds': 1620341096, 'to...       SETTLED  \n",
       "4  {'no': 0, 'timestamp_seconds': 1620341144, 'to...       SETTLED  "
      ]
     },
     "execution_count": 19,
     "metadata": {},
     "output_type": "execute_result"
    }
   ],
   "source": [
    "df2.head()"
   ]
  },
  {
   "cell_type": "code",
   "execution_count": 24,
   "metadata": {},
   "outputs": [
    {
     "name": "stdout",
     "output_type": "stream",
     "text": [
      "68189\n"
     ]
    }
   ],
   "source": [
    "count=0\n",
    "for i in range(0,len(df2.deadline_timestamp_seconds)):\n",
    "    if df2.deadline_timestamp_seconds[i]!='':\n",
    "        count+=1\n",
    "print(count)"
   ]
  },
  {
   "cell_type": "code",
   "execution_count": 26,
   "metadata": {},
   "outputs": [
    {
     "name": "stdout",
     "output_type": "stream",
     "text": [
      "{'no': 0, 'timestamp_seconds': 1620340878, 'total': 31540000290890139, 'yes': 31539577669890139}\n"
     ]
    }
   ],
   "source": [
    "print(df2.latest_tally[0])"
   ]
  }
 ],
 "metadata": {
  "kernelspec": {
   "display_name": "Python 3",
   "language": "python",
   "name": "python3"
  },
  "language_info": {
   "codemirror_mode": {
    "name": "ipython",
    "version": 3
   },
   "file_extension": ".py",
   "mimetype": "text/x-python",
   "name": "python",
   "nbconvert_exporter": "python",
   "pygments_lexer": "ipython3",
   "version": "3.8.10"
  }
 },
 "nbformat": 4,
 "nbformat_minor": 2
}
